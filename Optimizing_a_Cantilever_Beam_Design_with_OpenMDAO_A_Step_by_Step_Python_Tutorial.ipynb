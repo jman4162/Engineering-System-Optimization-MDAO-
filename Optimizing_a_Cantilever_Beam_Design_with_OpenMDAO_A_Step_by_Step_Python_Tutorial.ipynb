{
  "nbformat": 4,
  "nbformat_minor": 0,
  "metadata": {
    "colab": {
      "provenance": [],
      "authorship_tag": "ABX9TyOWOzTlJg4srYO4nVLbl88C",
      "include_colab_link": true
    },
    "kernelspec": {
      "name": "python3",
      "display_name": "Python 3"
    },
    "language_info": {
      "name": "python"
    }
  },
  "cells": [
    {
      "cell_type": "markdown",
      "metadata": {
        "id": "view-in-github",
        "colab_type": "text"
      },
      "source": [
        "<a href=\"https://colab.research.google.com/github/jman4162/Engineering-System-Optimization-MDAO-/blob/main/Optimizing_a_Cantilever_Beam_Design_with_OpenMDAO_A_Step_by_Step_Python_Tutorial.ipynb\" target=\"_parent\"><img src=\"https://colab.research.google.com/assets/colab-badge.svg\" alt=\"Open In Colab\"/></a>"
      ]
    },
    {
      "cell_type": "markdown",
      "source": [
        "# Optimizing a Cantilever Beam Design with OpenMDAO: A Step-by-Step Python Tutorial\n",
        "\n",
        "Name: John Hodge\n",
        "\n",
        "Date: 04/21/24"
      ],
      "metadata": {
        "id": "lRTSMldcD-jB"
      }
    },
    {
      "cell_type": "markdown",
      "source": [
        "OpenMDAO is an open-source high-performance computing platform for systems analysis and multidisciplinary optimization, developed by NASA. It is particularly well-suited for solving complex engineering problems involving multiple disciplines. In this tutorial, we will go through a basic example of how to use [OpenMDAO](https://openmdao.org/) to optimize an engineering system design. Specifically, we will focus on optimizing the design of a simple cantilever beam to minimize its mass under constraints on its maximum displacement when a load is applied at the end.\n",
        "\n",
        "## Step 1: Define the Problem\n",
        "\n",
        "For our example, the cantilever beam is defined by its length ($L$), width ($b$), and height ($h$). The goal is to minimize the mass of the beam, which is directly proportional to its volume (assuming constant material density), subject to constraints on its maximum displacement under a given load.\n",
        "\n",
        "The mass of the beam can be calculated as:\n",
        "\n",
        "$ \\text{Mass} = \\rho \\times L \\times b \\times h $\n",
        "\n",
        "where \\( $\\rho$ \\) is the material density (constant).\n",
        "\n",
        "The displacement ( $d$ ) at the free end of the beam under a load \\( $P$ \\) can be approximated by:\n",
        "\n",
        "$ d = \\frac{4 \\times P \\times L^3}{E \\times b \\times h^3} $\n",
        "\n",
        "where \\($E$\\) is the modulus of elasticity (constant)."
      ],
      "metadata": {
        "id": "31QVYXwwDyea"
      }
    },
    {
      "cell_type": "markdown",
      "source": [
        "## Initialize Environment and Import Libraries"
      ],
      "metadata": {
        "id": "eM2UfnP2EJpU"
      }
    },
    {
      "cell_type": "code",
      "execution_count": 236,
      "metadata": {
        "colab": {
          "base_uri": "https://localhost:8080/"
        },
        "id": "H0iyhz-FrU3m",
        "outputId": "6891b172-315e-4947-bf8b-34c9d8024849"
      },
      "outputs": [
        {
          "output_type": "stream",
          "name": "stdout",
          "text": [
            "Requirement already satisfied: openmdao in /usr/local/lib/python3.10/dist-packages (3.31.1)\n",
            "Requirement already satisfied: matplotlib in /usr/local/lib/python3.10/dist-packages (3.7.1)\n",
            "Requirement already satisfied: numpy in /usr/local/lib/python3.10/dist-packages (1.25.2)\n",
            "Requirement already satisfied: networkx>=2.0 in /usr/local/lib/python3.10/dist-packages (from openmdao) (3.3)\n",
            "Requirement already satisfied: scipy in /usr/local/lib/python3.10/dist-packages (from openmdao) (1.11.4)\n",
            "Requirement already satisfied: requests in /usr/local/lib/python3.10/dist-packages (from openmdao) (2.31.0)\n",
            "Requirement already satisfied: packaging in /usr/local/lib/python3.10/dist-packages (from openmdao) (24.0)\n",
            "Requirement already satisfied: contourpy>=1.0.1 in /usr/local/lib/python3.10/dist-packages (from matplotlib) (1.2.1)\n",
            "Requirement already satisfied: cycler>=0.10 in /usr/local/lib/python3.10/dist-packages (from matplotlib) (0.12.1)\n",
            "Requirement already satisfied: fonttools>=4.22.0 in /usr/local/lib/python3.10/dist-packages (from matplotlib) (4.51.0)\n",
            "Requirement already satisfied: kiwisolver>=1.0.1 in /usr/local/lib/python3.10/dist-packages (from matplotlib) (1.4.5)\n",
            "Requirement already satisfied: pillow>=6.2.0 in /usr/local/lib/python3.10/dist-packages (from matplotlib) (9.4.0)\n",
            "Requirement already satisfied: pyparsing>=2.3.1 in /usr/local/lib/python3.10/dist-packages (from matplotlib) (3.1.2)\n",
            "Requirement already satisfied: python-dateutil>=2.7 in /usr/local/lib/python3.10/dist-packages (from matplotlib) (2.8.2)\n",
            "Requirement already satisfied: six>=1.5 in /usr/local/lib/python3.10/dist-packages (from python-dateutil>=2.7->matplotlib) (1.16.0)\n",
            "Requirement already satisfied: charset-normalizer<4,>=2 in /usr/local/lib/python3.10/dist-packages (from requests->openmdao) (3.3.2)\n",
            "Requirement already satisfied: idna<4,>=2.5 in /usr/local/lib/python3.10/dist-packages (from requests->openmdao) (3.7)\n",
            "Requirement already satisfied: urllib3<3,>=1.21.1 in /usr/local/lib/python3.10/dist-packages (from requests->openmdao) (2.0.7)\n",
            "Requirement already satisfied: certifi>=2017.4.17 in /usr/local/lib/python3.10/dist-packages (from requests->openmdao) (2024.2.2)\n"
          ]
        }
      ],
      "source": [
        "!pip install openmdao matplotlib numpy"
      ]
    },
    {
      "cell_type": "code",
      "source": [
        "import openmdao.api as om\n",
        "import matplotlib.pyplot as plt\n",
        "import numpy as np"
      ],
      "metadata": {
        "id": "YxnfLRHsrvPL"
      },
      "execution_count": 237,
      "outputs": []
    },
    {
      "cell_type": "markdown",
      "source": [
        "## Define Engineering System Components"
      ],
      "metadata": {
        "id": "7pee4RH8QoAR"
      }
    },
    {
      "cell_type": "code",
      "source": [
        "class BeamMass(om.ExplicitComponent):\n",
        "    def setup(self):\n",
        "        # Inputs\n",
        "        self.add_input('rho', val=7850)  # Material density\n",
        "        self.add_input('L', val=2.0)    # Length\n",
        "        self.add_input('b', val=5.0)    # Width\n",
        "        self.add_input('h', val=5.0)    # Height\n",
        "\n",
        "        # Outputs\n",
        "        self.add_output('mass', val=0.0)\n",
        "\n",
        "        # Partial derivatives\n",
        "        self.declare_partials(of='mass', wrt='b')\n",
        "        self.declare_partials(of='mass', wrt='h')\n",
        "\n",
        "    def compute(self, inputs, outputs):\n",
        "        rho = inputs['rho']\n",
        "        L = inputs['L']\n",
        "        b = inputs['b']\n",
        "        h = inputs['h']\n",
        "        outputs['mass'] = rho * L * b * h\n",
        "\n",
        "    def compute_partials(self, inputs, partials):\n",
        "        rho = inputs['rho']\n",
        "        L = inputs['L']\n",
        "        b = inputs['b']\n",
        "        h = inputs['h']\n",
        "        partials['mass', 'b'] = rho * L * h\n",
        "        partials['mass', 'h'] = rho * L * b\n"
      ],
      "metadata": {
        "id": "8FfkNrSdryB9"
      },
      "execution_count": 238,
      "outputs": []
    },
    {
      "cell_type": "markdown",
      "source": [
        "## Define the Constraint\n"
      ],
      "metadata": {
        "id": "crKav11_Q0-1"
      }
    },
    {
      "cell_type": "code",
      "source": [
        "# Adding a scaling factor for numerical reasons\n",
        "scale_fac = 1e12"
      ],
      "metadata": {
        "id": "9DBXK6GEVvh1"
      },
      "execution_count": 239,
      "outputs": []
    },
    {
      "cell_type": "code",
      "source": [
        "class BeamDisplacement(om.ExplicitComponent):\n",
        "    def setup(self):\n",
        "        # Inputs\n",
        "        self.add_input('P', val=1000)    # Applied load\n",
        "        self.add_input('L', val=2.0)    # Length\n",
        "        self.add_input('b', val=5.0)    # Width\n",
        "        self.add_input('h', val=5.0)    # Height\n",
        "        self.add_input('E', val=2.1e11)    # Modulus of elasticity\n",
        "\n",
        "        # Outputs\n",
        "        self.add_output('disp', val=0.0)\n",
        "\n",
        "        # Partial derivatives\n",
        "        self.declare_partials(of='disp', wrt=['b', 'h'])\n",
        "\n",
        "    def compute(self, inputs, outputs):\n",
        "        P = inputs['P']\n",
        "        L = inputs['L']\n",
        "        b = inputs['b']\n",
        "        h = inputs['h']\n",
        "        E = inputs['E']\n",
        "        outputs['disp'] = (4 * P * L**3) / (E * b * h**3) * scale_fac\n",
        "\n",
        "    def compute_partials(self, inputs, partials):\n",
        "        P = inputs['P']\n",
        "        L = inputs['L']\n",
        "        b = inputs['b']\n",
        "        h = inputs['h']\n",
        "        E = inputs['E']\n",
        "        partials['disp', 'b'] = - (4 * P * L**3) / (E * b**2 * h**3) * scale_fac\n",
        "        partials['disp', 'h'] = -3 * (4 * P * L**3) / (E * b * h**4) * scale_fac\n"
      ],
      "metadata": {
        "id": "5ivOTyhBr03o"
      },
      "execution_count": 240,
      "outputs": []
    },
    {
      "cell_type": "markdown",
      "source": [
        "## Setup the Optimization Problem\n"
      ],
      "metadata": {
        "id": "1aea8n3gQ8R9"
      }
    },
    {
      "cell_type": "code",
      "source": [
        "# Create a problem and model\n",
        "prob = om.Problem()\n",
        "model = prob.model\n",
        "\n",
        "# Add components\n",
        "model.add_subsystem('comp', BeamMass(), promotes=['b', 'h'])\n",
        "model.add_subsystem('disp', BeamDisplacement(), promotes=['b', 'h'])\n",
        "\n",
        "# Setup the optimizer\n",
        "prob.driver = om.ScipyOptimizeDriver()\n",
        "prob.driver.options['optimizer'] = 'SLSQP'\n",
        "prob.driver.options['tol'] = 1e-9\n",
        "prob.driver.options['disp'] = True\n",
        "prob.driver.options['maxiter'] = 1000\n",
        "\n",
        "print(prob.driver.options)"
      ],
      "metadata": {
        "colab": {
          "base_uri": "https://localhost:8080/"
        },
        "id": "7W_lJIr2r29q",
        "outputId": "2c1cb79a-4d46-4c6c-bc37-bcb7c3d78f80"
      },
      "execution_count": 241,
      "outputs": [
        {
          "output_type": "stream",
          "name": "stdout",
          "text": [
            "=======================  =======  =======================  ================  =======================\n",
            "Option                   Default  Acceptable Values        Acceptable Types  Description            \n",
            "=======================  =======  =======================  ================  =======================\n",
            "debug_print              []       ['desvars', 'nl_cons',   ['list']          List of what type of   \n",
            "                                  'ln_cons', 'objs',                         Driver variables to    \n",
            "                                  'totals']                                  print at each          \n",
            "                                                                             iteration.             \n",
            "disp                     True     [True, False]            ['bool']          Set to False to prevent\n",
            "                                                                             printing of Scipy      \n",
            "                                                                             convergence messages   \n",
            "invalid_desvar_behavior  warn     ['warn', 'raise',        N/A               Behavior of driver if  \n",
            "                                  'ignore']                                  the initial value of a \n",
            "                                                                             design variable exceeds\n",
            "                                                                             its bounds. The default\n",
            "                                                                             value may beset using  \n",
            "                                                                             the `OPENMDAO_INVALID_D\n",
            "                                                                             ESVAR_BEHAVIOR`        \n",
            "                                                                             environment variable to\n",
            "                                                                             one of the valid       \n",
            "                                                                             options.               \n",
            "maxiter                  1000     N/A                      N/A               Maximum number of      \n",
            "                                                                             iterations.            \n",
            "optimizer                SLSQP    ['shgo', 'CG', 'TNC',    N/A               Name of optimizer to   \n",
            "                                  'trust-constr',                            use                    \n",
            "                                  'Powell',                                                         \n",
            "                                  'dual_annealing', 'diff                                           \n",
            "                                  erential_evolution',                                              \n",
            "                                  'SLSQP', 'L-BFGS-B',                                              \n",
            "                                  'COBYLA', 'Nelder-                                                \n",
            "                                  Mead', 'basinhopping',                                            \n",
            "                                  'BFGS', 'Newton-CG']                                              \n",
            "singular_jac_behavior    warn     ['error', 'warn',        N/A               Defines behavior of a  \n",
            "                                  'ignore']                                  zero row/col check     \n",
            "                                                                             after first call       \n",
            "                                                                             tocompute_totals:error \n",
            "                                                                             - raise an error.warn -\n",
            "                                                                             raise a warning.ignore \n",
            "                                                                             - don't perform check. \n",
            "singular_jac_tol         1e-16    N/A                      N/A               Tolerance for zero     \n",
            "                                                                             row/column check.      \n",
            "tol                      1e-09    N/A                      N/A               Tolerance for          \n",
            "                                                                             termination. For       \n",
            "                                                                             detailed control, use  \n",
            "                                                                             solver-specific        \n",
            "                                                                             options.               \n",
            "=======================  =======  =======================  ================  =======================\n"
          ]
        }
      ]
    },
    {
      "cell_type": "markdown",
      "source": [
        "## Define the Design Variables, Objective, and Constraints\n"
      ],
      "metadata": {
        "id": "GVEIvu1KRIMr"
      }
    },
    {
      "cell_type": "code",
      "source": [
        "# Design variables\n",
        "model.add_design_var('b', lower=1.0, upper=10.0)\n",
        "model.add_design_var('h', lower=1.0, upper=10.0)\n",
        "\n",
        "# Objective\n",
        "model.add_objective('comp.mass')\n",
        "\n",
        "# Constraints\n",
        "max_disp = 200\n",
        "model.add_constraint('disp.disp', upper=max_disp) # Limit maximum displacement\n"
      ],
      "metadata": {
        "id": "pNMuTqtxsF6b"
      },
      "execution_count": 242,
      "outputs": []
    },
    {
      "cell_type": "markdown",
      "source": [
        "## Setup Problem and Define Constants"
      ],
      "metadata": {
        "id": "ZyODPXufRP4Z"
      }
    },
    {
      "cell_type": "code",
      "source": [
        "# Set constant values\n",
        "model.set_input_defaults('comp.rho', 7850)  # density of steel in kg/m^3\n",
        "model.set_input_defaults('comp.L', 2.0)     # length of the beam in meters\n",
        "model.set_input_defaults('disp.P', 1000)    # load in newtons\n",
        "model.set_input_defaults('disp.E', 2.1e11)  # modulus of elasticity of steel in Pascals\n",
        "\n",
        "# Setup the problem\n",
        "prob.setup()"
      ],
      "metadata": {
        "colab": {
          "base_uri": "https://localhost:8080/"
        },
        "id": "ll1p5BOPsIKs",
        "outputId": "e57c398f-905c-4f90-8006-0e2bef857ef5"
      },
      "execution_count": 243,
      "outputs": [
        {
          "output_type": "execute_result",
          "data": {
            "text/plain": [
              "<openmdao.core.problem.Problem at 0x783a61798790>"
            ]
          },
          "metadata": {},
          "execution_count": 243
        }
      ]
    },
    {
      "cell_type": "code",
      "source": [
        "# Get and print initial values\n",
        "b_init = prob.get_val('disp.b')\n",
        "h_init = prob.get_val('disp.h')\n",
        "\n",
        "(b_init, h_init)"
      ],
      "metadata": {
        "colab": {
          "base_uri": "https://localhost:8080/"
        },
        "id": "lZcLz4ZW9Uah",
        "outputId": "17ed1cc5-033c-44d9-ba34-30ae67170610"
      },
      "execution_count": 244,
      "outputs": [
        {
          "output_type": "execute_result",
          "data": {
            "text/plain": [
              "(array([5.]), array([5.]))"
            ]
          },
          "metadata": {},
          "execution_count": 244
        }
      ]
    },
    {
      "cell_type": "code",
      "source": [
        "# Investigate the initial values\n",
        "print(\"Initial width  (b): {:.2f} m\".format(b_init[0]))\n",
        "print(\"Initial height (h): {:.2f} m\".format(h_init[0]))"
      ],
      "metadata": {
        "colab": {
          "base_uri": "https://localhost:8080/"
        },
        "id": "fRRS2KqK6OIz",
        "outputId": "9d1ad9f8-b37b-40c9-b6e3-10230be2c675"
      },
      "execution_count": 245,
      "outputs": [
        {
          "output_type": "stream",
          "name": "stdout",
          "text": [
            "Initial width  (b): 5.00 m\n",
            "Initial height (h): 5.00 m\n"
          ]
        }
      ]
    },
    {
      "cell_type": "markdown",
      "source": [
        "### View outputs of initial system parameters"
      ],
      "metadata": {
        "id": "mokesNtFR5a8"
      }
    },
    {
      "cell_type": "code",
      "source": [
        "# Run the model to compute initial outputs\n",
        "prob.run_model()\n",
        "\n",
        "# Get initial mass and displacement\n",
        "initial_mass = prob.get_val('comp.mass')\n",
        "initial_disp = prob.get_val('disp.disp')\n",
        "\n",
        "# Output the initial values\n",
        "print(\"Initial Mass:\", initial_mass, \"kg\")\n",
        "print(\"Initial Displacement:\", initial_disp, \"meters\")"
      ],
      "metadata": {
        "colab": {
          "base_uri": "https://localhost:8080/"
        },
        "id": "Vveof3DtC5gI",
        "outputId": "796d9bc3-141c-4edf-d68f-4cf4e1c0b620"
      },
      "execution_count": 246,
      "outputs": [
        {
          "output_type": "stream",
          "name": "stdout",
          "text": [
            "Initial Mass: [392500.] kg\n",
            "Initial Displacement: [243.80952381] meters\n"
          ]
        }
      ]
    },
    {
      "cell_type": "code",
      "source": [
        "(b_init, h_init, initial_mass, initial_disp)"
      ],
      "metadata": {
        "colab": {
          "base_uri": "https://localhost:8080/"
        },
        "id": "t3jURSw8dV58",
        "outputId": "fea70a70-6c44-4f42-ec12-09d1793ab5d4"
      },
      "execution_count": 247,
      "outputs": [
        {
          "output_type": "execute_result",
          "data": {
            "text/plain": [
              "(array([5.]), array([5.]), array([392500.]), array([243.80952381]))"
            ]
          },
          "metadata": {},
          "execution_count": 247
        }
      ]
    },
    {
      "cell_type": "code",
      "source": [
        "# Make a copy of initial_mass and initial_disp\n",
        "initial_mass_copy = initial_mass.copy()\n",
        "initial_disp_copy = initial_disp.copy()"
      ],
      "metadata": {
        "id": "J7RHXsr_W8dh"
      },
      "execution_count": 248,
      "outputs": []
    },
    {
      "cell_type": "markdown",
      "source": [
        "## Run the Optimization"
      ],
      "metadata": {
        "id": "e2kKswoDRTPO"
      }
    },
    {
      "cell_type": "code",
      "source": [
        "# Run the optimizer\n",
        "prob.run_driver()\n",
        "\n",
        "# Run the model to compute values\n",
        "prob.run_model()\n",
        "\n",
        "# Get and print results\n",
        "b_opt = prob.get_val('disp.b')\n",
        "h_opt = prob.get_val('disp.h')\n",
        "mass_opt = prob.get_val('comp.mass')\n",
        "disp_opt = prob.get_val('disp.disp')\n",
        "\n",
        "print(\"Optimized width (b): {:.2f} m\".format(b_opt[0]))\n",
        "print(\"Optimized height (h): {:.2f} m\".format(h_opt[0]))\n",
        "print(\"Optimized mass: {:.2f} kg\".format(mass_opt[0]))\n",
        "print(\"Resulting displacement: {:.4e} m\".format(disp_opt[0]))\n",
        "\n",
        "print('mass_opt:', mass_opt)\n",
        "print('disp_opt:', disp_opt)\n",
        "\n",
        "(b_opt, h_opt, mass_opt, disp_opt)"
      ],
      "metadata": {
        "colab": {
          "base_uri": "https://localhost:8080/"
        },
        "id": "13CxNBG-sJ0-",
        "outputId": "ac416854-0909-4e24-9029-d78866ebad2e"
      },
      "execution_count": 249,
      "outputs": [
        {
          "output_type": "stream",
          "name": "stdout",
          "text": [
            "Optimization terminated successfully    (Exit mode 0)\n",
            "            Current function value: 143673.59340666395\n",
            "            Iterations: 11\n",
            "            Function evaluations: 7\n",
            "            Gradient evaluations: 7\n",
            "Optimization Complete\n",
            "-----------------------------------\n",
            "Optimized width (b): 1.00 m\n",
            "Optimized height (h): 9.15 m\n",
            "Optimized mass: 143673.59 kg\n",
            "Resulting displacement: 1.9884e+02 m\n",
            "mass_opt: [143673.59340666]\n",
            "disp_opt: [198.83772194]\n"
          ]
        },
        {
          "output_type": "execute_result",
          "data": {
            "text/plain": [
              "(array([1.]),\n",
              " array([9.15118429]),\n",
              " array([143673.59340666]),\n",
              " array([198.83772194]))"
            ]
          },
          "metadata": {},
          "execution_count": 249
        }
      ]
    },
    {
      "cell_type": "markdown",
      "source": [
        "## Analyze results"
      ],
      "metadata": {
        "id": "B98VRppzR_81"
      }
    },
    {
      "cell_type": "code",
      "source": [
        "# Values - assuming these are arrays of data points; for a single run, you can use lists of single values\n",
        "b_init = float(b_init)\n",
        "h_init = float(h_init)\n",
        "initial_mass = float(initial_mass_copy)\n",
        "initial_disp = float(initial_disp)\n",
        "\n",
        "b_values = [b_init, b_opt]  # Example values from lower bound to optimized\n",
        "h_values = [h_init, h_opt]  # Example values from lower bound to optimized\n",
        "mass_values = [initial_mass, mass_opt]  # Initial and optimized masses\n",
        "disp_values = [initial_disp, disp_opt]  # Initial and optimized displacements\n",
        "\n",
        "# Plot width vs. mass\n",
        "plt.figure(figsize=(10, 5))\n",
        "plt.subplot(1, 2, 1)\n",
        "plt.plot(b_init, initial_mass_copy[0], 'o', label='Initial')\n",
        "plt.plot(b_opt[0], mass_opt[0], 'o', label='Optimized')\n",
        "plt.title('Width vs. Mass')\n",
        "plt.xlabel('Width (m)')\n",
        "plt.ylabel('Mass (kg)')\n",
        "plt.grid(True)\n",
        "plt.legend(loc='best')\n",
        "\n",
        "# Plot height vs. displacement\n",
        "plt.subplot(1, 2, 2)\n",
        "plt.plot(h_init, initial_disp_copy[0], 'o', label='Initial')\n",
        "plt.plot(h_opt[0], disp_opt[0], 'o', label='Optimized')\n",
        "plt.title('Height vs. Displacement')\n",
        "plt.xlabel('Height (m)')\n",
        "plt.ylabel('Displacement (scaled m)')\n",
        "plt.grid(True)\n",
        "plt.legend(loc='best')\n",
        "\n",
        "plt.tight_layout()\n",
        "plt.show()"
      ],
      "metadata": {
        "colab": {
          "base_uri": "https://localhost:8080/",
          "height": 650
        },
        "id": "Y4NGU35duqa6",
        "outputId": "97974cc3-a908-48e5-9318-0d9a5dfe32a2"
      },
      "execution_count": 250,
      "outputs": [
        {
          "output_type": "stream",
          "name": "stderr",
          "text": [
            "<ipython-input-250-2416891d5e19>:2: DeprecationWarning: Conversion of an array with ndim > 0 to a scalar is deprecated, and will error in future. Ensure you extract a single element from your array before performing this operation. (Deprecated NumPy 1.25.)\n",
            "  b_init = float(b_init)\n",
            "<ipython-input-250-2416891d5e19>:3: DeprecationWarning: Conversion of an array with ndim > 0 to a scalar is deprecated, and will error in future. Ensure you extract a single element from your array before performing this operation. (Deprecated NumPy 1.25.)\n",
            "  h_init = float(h_init)\n",
            "<ipython-input-250-2416891d5e19>:4: DeprecationWarning: Conversion of an array with ndim > 0 to a scalar is deprecated, and will error in future. Ensure you extract a single element from your array before performing this operation. (Deprecated NumPy 1.25.)\n",
            "  initial_mass = float(initial_mass_copy)\n",
            "<ipython-input-250-2416891d5e19>:5: DeprecationWarning: Conversion of an array with ndim > 0 to a scalar is deprecated, and will error in future. Ensure you extract a single element from your array before performing this operation. (Deprecated NumPy 1.25.)\n",
            "  initial_disp = float(initial_disp)\n"
          ]
        },
        {
          "output_type": "display_data",
          "data": {
            "text/plain": [
              "<Figure size 1000x500 with 2 Axes>"
            ],
            "image/png": "[encoded data removed]"
          },
          "metadata": {}
        }
      ]
    },
    {
      "cell_type": "markdown",
      "source": [
        "## Simulated data based on the optimization scenario"
      ],
      "metadata": {
        "id": "VfnX_ATkRwf3"
      }
    },
    {
      "cell_type": "code",
      "source": [
        "# Assuming material properties and initial settings\n",
        "rho = 7850  # density of steel in kg/m^3\n",
        "L = 2.0  # length of the beam in meters\n",
        "P = 1000  # load in newtons\n",
        "E = 2.1e11  # modulus of elasticity of steel in Pascals\n",
        "\n",
        "# Simulated optimized values (normally obtained from optimization results)\n",
        "# b_opt = b_opt[0]  # optimized width in meters\n",
        "# h_opt = h_opt[0]  # optimized height in meters\n",
        "mass_opt = rho * L * b_opt[0] * h_opt[0]  # optimized mass\n",
        "disp_opt = (4 * P * L**3) / (E * b_opt[0] * h_opt[0]**3) * scale_fac # optimized displacement\n",
        "\n",
        "# Simulated ranges for width and height from initial to optimized\n",
        "b_values = np.linspace(0.1, 10, 50)\n",
        "h_values = np.linspace(0.1, 10, 50)\n",
        "mass_values = rho * L * b_values * h_opt[0]\n",
        "disp_values = (4 * P * L**3) / (E * b_values * h_opt[0]**3) * scale_fac\n",
        "\n",
        "(h_opt[0], h_opt[0])"
      ],
      "metadata": {
        "colab": {
          "base_uri": "https://localhost:8080/"
        },
        "id": "iueegr5FsMIg",
        "outputId": "99a3de14-a04c-44bf-db52-77777cab65a0"
      },
      "execution_count": 251,
      "outputs": [
        {
          "output_type": "execute_result",
          "data": {
            "text/plain": [
              "(9.151184293418085, 9.151184293418085)"
            ]
          },
          "metadata": {},
          "execution_count": 251
        }
      ]
    },
    {
      "cell_type": "code",
      "source": [
        "# Plot width vs. mass\n",
        "plt.figure(figsize=(12, 6))\n",
        "plt.subplot(1, 2, 1)\n",
        "plt.plot(b_values, mass_values, 'o-', label=f'Height={h_opt} m')\n",
        "plt.plot(b_opt, mass_opt, 'r*', label='Optimized Value', markersize=10)\n",
        "plt.title('Width vs. Mass')\n",
        "plt.xlabel('Width (m)')\n",
        "plt.ylabel('Mass (kg)')\n",
        "plt.grid(True)\n",
        "plt.legend()\n",
        "\n",
        "# Plot height vs. displacement\n",
        "plt.subplot(1, 2, 2)\n",
        "plt.loglog(h_values, (4 * P * L**3) / (E * b_opt[0] * h_values**3) * scale_fac, 'o-', label=f'Width={b_opt} m')\n",
        "plt.loglog(h_opt, disp_opt, 'r*', label='Optimized Value', markersize=10)\n",
        "plt.title('Height vs. Displacement')\n",
        "plt.xlabel('Height (m)')\n",
        "plt.ylabel('Displacement (m)')\n",
        "plt.legend()\n",
        "plt.grid(True)\n",
        "plt.tight_layout()\n",
        "plt.show()"
      ],
      "metadata": {
        "colab": {
          "base_uri": "https://localhost:8080/",
          "height": 491
        },
        "id": "9mZHsn4jHYKV",
        "outputId": "6eb8c90d-9964-4a4e-f65d-b158ddd298e4"
      },
      "execution_count": 252,
      "outputs": [
        {
          "output_type": "display_data",
          "data": {
            "text/plain": [
              "<Figure size 1200x600 with 2 Axes>"
            ],
            "image/png": "[encoded data removed]"
          },
          "metadata": {}
        }
      ]
    },
    {
      "cell_type": "markdown",
      "source": [
        "## Conclusion\n",
        "\n",
        "This basic example demonstrates the use of OpenMDAO for solving a simple structural optimization problem. In practice, OpenMDAO can be used for much more complex systems and analyses, including aerospace applications, vehicle design, and much more.\n",
        "\n",
        "In a real-world application, you would typically refine the problem by including more detailed models of the physics involved, possibly dynamic behaviors, other disciplines like heat transfer or fluid dynamics, and you might utilize gradient-enhanced optimization techniques provided by OpenMDAO's advanced capabilities.\n",
        "\n",
        "This tutorial provides a foundation that can be expanded upon to tackle more complex and multidisciplinary engineering optimization problems."
      ],
      "metadata": {
        "id": "2jwomxFYsQ_4"
      }
    },
    {
      "cell_type": "markdown",
      "source": [
        "Here are the plots generated based on the simulated optimization results for a cantilever beam:\n",
        "\n",
        "1. **Width vs. Mass**: This plot shows the relationship between the width of the beam and its mass, holding height constant at the optimized value. As expected, the mass increases linearly with the width because the volume (and thus mass) of the beam is directly proportional to its width.\n",
        "\n",
        "2. **Height vs. Displacement**: This plot illustrates how displacement at the end of the beam decreases as the height increases, with width held constant at the optimized value. The displacement decreases sharply as height increases due to its cubic relationship in the beam’s bending equation.\n",
        "\n",
        "These plots help visualize the trade-offs and impacts of different design variables on the system's objectives and constraints. If you have specific results from an actual OpenMDAO run, similar plots can be generated to analyze those results in detail."
      ],
      "metadata": {
        "id": "mkOJ5yvCvbpR"
      }
    },
    {
      "cell_type": "markdown",
      "source": [
        "# Appendix\n",
        "\n",
        "## Example openMDAO Usage"
      ],
      "metadata": {
        "id": "Bb3vGi38iLrS"
      }
    },
    {
      "cell_type": "code",
      "source": [
        "# build the model\n",
        "prob = om.Problem()\n",
        "\n",
        "prob.model.add_subsystem('paraboloid', om.ExecComp('f = (x-3)**2 + x*y + (y+4)**2 - 3'))\n",
        "\n",
        "# setup the optimization\n",
        "prob.driver = om.ScipyOptimizeDriver()\n",
        "prob.driver.options['optimizer'] = 'SLSQP'\n",
        "\n",
        "prob.model.add_design_var('paraboloid.x', lower=-50, upper=50)\n",
        "prob.model.add_design_var('paraboloid.y', lower=-50, upper=50)\n",
        "prob.model.add_objective('paraboloid.f')\n",
        "\n",
        "prob.setup()\n",
        "\n",
        "# set initial values\n",
        "prob.set_val('paraboloid.x', 3.0)\n",
        "prob.set_val('paraboloid.y', -4.0)\n",
        "\n",
        "# run the optimization\n",
        "prob.run_driver()\n",
        "\n",
        "# minimum value\n",
        "print('paraboloid.f:', prob.get_val('paraboloid.f'))\n",
        "\n",
        "# location of the minimum\n",
        "print('paraboloid.x:', prob.get_val('paraboloid.x'))\n",
        "print('paraboloid.y:', prob.get_val('paraboloid.y'))"
      ],
      "metadata": {
        "colab": {
          "base_uri": "https://localhost:8080/"
        },
        "id": "kGVJzzmyh4zQ",
        "outputId": "b80547f9-441c-4573-ee71-c92d17be163f"
      },
      "execution_count": 253,
      "outputs": [
        {
          "output_type": "stream",
          "name": "stdout",
          "text": [
            "Optimization terminated successfully    (Exit mode 0)\n",
            "            Current function value: -27.33333333333333\n",
            "            Iterations: 5\n",
            "            Function evaluations: 6\n",
            "            Gradient evaluations: 5\n",
            "Optimization Complete\n",
            "-----------------------------------\n",
            "paraboloid.f: [-27.33333333]\n",
            "paraboloid.x: [6.66666667]\n",
            "paraboloid.y: [-7.33333333]\n"
          ]
        }
      ]
    },
    {
      "cell_type": "markdown",
      "source": [
        "# Simpler Cantilever Beam Design Example Using openMDAO"
      ],
      "metadata": {
        "id": "s9r3DdXtX1Bw"
      }
    },
    {
      "cell_type": "code",
      "source": [
        "# Optimizing a Cantilever Beam Design with OpenMDAO: A Step-by-Step Python Tutorial\n",
        "\n",
        "# Define constants\n",
        "E = 200e9  # Modulus of elasticity (Pa)\n",
        "P = 50e3   # Applied load (N)\n",
        "rho = 7800 # Material density (kg/m^3)\n",
        "max_displacement = 0.01  # Maximum allowable displacement (m)\n",
        "\n",
        "class BeamDesign(om.ExplicitComponent):\n",
        "   \"\"\"\n",
        "   Define the cantilever beam design problem using OpenMDAO.\n",
        "   \"\"\"\n",
        "\n",
        "   def setup(self):\n",
        "       # Define design variables\n",
        "       self.add_input('beam_length', val=5.0, desc='Beam length (m)')\n",
        "       self.add_input('beam_width', val=0.1, desc='Beam width (m)')\n",
        "       self.add_input('beam_height', val=0.2, desc='Beam height (m)')\n",
        "\n",
        "       # Define outputs\n",
        "       self.add_output('mass', val=0.0, desc='Beam mass (kg)')\n",
        "       self.add_output('displacement', val=0.0, desc='Beam end displacement (m)')\n",
        "\n",
        "       # Specify partial derivative calculation method\n",
        "       self.declare_partials('*', '*', method='fd')\n",
        "\n",
        "   def compute(self, inputs, outputs):\n",
        "       # Compute the mass and displacement of the beam\n",
        "       L = inputs['beam_length']\n",
        "       b = inputs['beam_width']\n",
        "       h = inputs['beam_height']\n",
        "\n",
        "       outputs['mass'] = rho * L * b * h\n",
        "       outputs['displacement'] = (4 * P * L**3) / (E * b * h**3)\n",
        "\n",
        "# Create the design problem\n",
        "prob = om.Problem()\n",
        "model = prob.model\n",
        "\n",
        "# Add the design component to the model\n",
        "model.add_subsystem('beam', BeamDesign(), promotes=['*'])\n",
        "\n",
        "# Set up the design optimization problem\n",
        "model.add_design_var('beam_length', lower=1.0, upper=10.0)\n",
        "model.add_design_var('beam_width', lower=0.05, upper=1.0)\n",
        "model.add_design_var('beam_height', lower=0.05, upper=1.0)\n",
        "\n",
        "# Define the objective function and constraints\n",
        "model.add_objective('mass')\n",
        "model.add_constraint('displacement', upper=max_displacement)\n",
        "\n",
        "# Set up the optimization driver\n",
        "prob.driver = om.ScipyOptimizeDriver()\n",
        "prob.driver.options['optimizer'] = 'SLSQP'\n",
        "prob.driver.options['disp'] = True\n",
        "\n",
        "prob.setup()\n",
        "\n",
        "# Set initial values for the design variables\n",
        "prob.set_val('beam_length', 5.0)\n",
        "prob.set_val('beam_width', 0.1)\n",
        "prob.set_val('beam_height', 0.2)\n",
        "\n",
        "# Run the optimization\n",
        "prob.run_driver()\n",
        "\n",
        "# Print the optimized design\n",
        "print(f\"Optimized beam design:\")\n",
        "print(f\"  Length: {prob.get_val('beam_length')[0]:.4f} m\")\n",
        "print(f\"  Width: {prob.get_val('beam_width')[0]:.4f} m\")\n",
        "print(f\"  Height: {prob.get_val('beam_height')[0]:.4f} m\")\n",
        "print(f\"  Mass: {prob.get_val('mass')[0]:.4f} kg\")\n",
        "print(f\"  Displacement: {prob.get_val('displacement')[0]:.6f} m\")"
      ],
      "metadata": {
        "colab": {
          "base_uri": "https://localhost:8080/"
        },
        "id": "nRrPKjirh5Nd",
        "outputId": "64d557aa-d456-4822-b2c3-ea86002a94d5"
      },
      "execution_count": 254,
      "outputs": [
        {
          "output_type": "stream",
          "name": "stdout",
          "text": [
            "Optimization terminated successfully    (Exit mode 0)\n",
            "            Current function value: 49.13691125414173\n",
            "            Iterations: 5\n",
            "            Function evaluations: 16\n",
            "            Gradient evaluations: 5\n",
            "Optimization Complete\n",
            "-----------------------------------\n",
            "Optimized beam design:\n",
            "  Length: 1.0000 m\n",
            "  Width: 0.0500 m\n",
            "  Height: 0.1260 m\n",
            "  Mass: 49.1369 kg\n",
            "  Displacement: 0.010000 m\n"
          ]
        }
      ]
    }
  ]
}